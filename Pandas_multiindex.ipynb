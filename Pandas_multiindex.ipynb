{
  "nbformat": 4,
  "nbformat_minor": 0,
  "metadata": {
    "colab": {
      "name": "Pandas multiindex.ipynb",
      "provenance": [],
      "collapsed_sections": [],
      "include_colab_link": true
    },
    "kernelspec": {
      "name": "python3",
      "display_name": "Python 3"
    }
  },
  "cells": [
    {
      "cell_type": "markdown",
      "metadata": {
        "id": "view-in-github",
        "colab_type": "text"
      },
      "source": [
        "<a href=\"https://colab.research.google.com/github/Python-Is-Long/Teaching/blob/main/Pandas_multiindex.ipynb\" target=\"_parent\"><img src=\"https://colab.research.google.com/assets/colab-badge.svg\" alt=\"Open In Colab\"/></a>"
      ]
    },
    {
      "cell_type": "markdown",
      "metadata": {
        "id": "nP84az1u3dzQ"
      },
      "source": [
        "2020-6-19"
      ]
    },
    {
      "cell_type": "code",
      "metadata": {
        "id": "MJKH-BnHMeF2",
        "colab": {
          "base_uri": "https://localhost:8080/",
          "height": 297
        },
        "outputId": "587cac64-dac3-43f9-cfc0-e10f1ea02875"
      },
      "source": [
        "import numpy as np\n",
        "import pandas as pd\n",
        "arrays = [np.array(['bar', 'bar', 'baz', 'baz', 'foo', 'foo', 'qux', 'qux']),\n",
        "         np.array(['one', 'two', 'one', 'two', 'one', 'two', 'one', 'two'])]\n",
        "df = pd.DataFrame(np.random.randn(8, 4), index=arrays)\n",
        "df"
      ],
      "execution_count": null,
      "outputs": [
        {
          "output_type": "execute_result",
          "data": {
            "text/html": [
              "<div>\n",
              "<style scoped>\n",
              "    .dataframe tbody tr th:only-of-type {\n",
              "        vertical-align: middle;\n",
              "    }\n",
              "\n",
              "    .dataframe tbody tr th {\n",
              "        vertical-align: top;\n",
              "    }\n",
              "\n",
              "    .dataframe thead th {\n",
              "        text-align: right;\n",
              "    }\n",
              "</style>\n",
              "<table border=\"1\" class=\"dataframe\">\n",
              "  <thead>\n",
              "    <tr style=\"text-align: right;\">\n",
              "      <th></th>\n",
              "      <th></th>\n",
              "      <th>0</th>\n",
              "      <th>1</th>\n",
              "      <th>2</th>\n",
              "      <th>3</th>\n",
              "    </tr>\n",
              "  </thead>\n",
              "  <tbody>\n",
              "    <tr>\n",
              "      <th rowspan=\"2\" valign=\"top\">bar</th>\n",
              "      <th>one</th>\n",
              "      <td>-1.054704</td>\n",
              "      <td>1.114543</td>\n",
              "      <td>0.931603</td>\n",
              "      <td>-0.170913</td>\n",
              "    </tr>\n",
              "    <tr>\n",
              "      <th>two</th>\n",
              "      <td>0.113791</td>\n",
              "      <td>-1.276736</td>\n",
              "      <td>-0.495499</td>\n",
              "      <td>-1.272756</td>\n",
              "    </tr>\n",
              "    <tr>\n",
              "      <th rowspan=\"2\" valign=\"top\">baz</th>\n",
              "      <th>one</th>\n",
              "      <td>-0.451376</td>\n",
              "      <td>0.938344</td>\n",
              "      <td>0.397290</td>\n",
              "      <td>-1.046409</td>\n",
              "    </tr>\n",
              "    <tr>\n",
              "      <th>two</th>\n",
              "      <td>-0.140578</td>\n",
              "      <td>-0.160463</td>\n",
              "      <td>0.597455</td>\n",
              "      <td>1.612180</td>\n",
              "    </tr>\n",
              "    <tr>\n",
              "      <th rowspan=\"2\" valign=\"top\">foo</th>\n",
              "      <th>one</th>\n",
              "      <td>0.217352</td>\n",
              "      <td>1.670534</td>\n",
              "      <td>0.627570</td>\n",
              "      <td>0.350163</td>\n",
              "    </tr>\n",
              "    <tr>\n",
              "      <th>two</th>\n",
              "      <td>-0.508933</td>\n",
              "      <td>0.577631</td>\n",
              "      <td>0.163347</td>\n",
              "      <td>-0.558216</td>\n",
              "    </tr>\n",
              "    <tr>\n",
              "      <th rowspan=\"2\" valign=\"top\">qux</th>\n",
              "      <th>one</th>\n",
              "      <td>-0.414368</td>\n",
              "      <td>-0.725476</td>\n",
              "      <td>0.776740</td>\n",
              "      <td>0.019796</td>\n",
              "    </tr>\n",
              "    <tr>\n",
              "      <th>two</th>\n",
              "      <td>-0.220006</td>\n",
              "      <td>-0.968436</td>\n",
              "      <td>1.627750</td>\n",
              "      <td>-1.047993</td>\n",
              "    </tr>\n",
              "  </tbody>\n",
              "</table>\n",
              "</div>"
            ],
            "text/plain": [
              "                0         1         2         3\n",
              "bar one -1.054704  1.114543  0.931603 -0.170913\n",
              "    two  0.113791 -1.276736 -0.495499 -1.272756\n",
              "baz one -0.451376  0.938344  0.397290 -1.046409\n",
              "    two -0.140578 -0.160463  0.597455  1.612180\n",
              "foo one  0.217352  1.670534  0.627570  0.350163\n",
              "    two -0.508933  0.577631  0.163347 -0.558216\n",
              "qux one -0.414368 -0.725476  0.776740  0.019796\n",
              "    two -0.220006 -0.968436  1.627750 -1.047993"
            ]
          },
          "metadata": {
            "tags": []
          },
          "execution_count": 1
        }
      ]
    },
    {
      "cell_type": "code",
      "metadata": {
        "id": "qYIBJjpiMpqn",
        "colab": {
          "base_uri": "https://localhost:8080/",
          "height": 173
        },
        "outputId": "5c90d3c7-36f1-4b1b-bd7d-f9faa2cec404"
      },
      "source": [
        "df.loc[pd.IndexSlice[:, \"one\"], :]"
      ],
      "execution_count": null,
      "outputs": [
        {
          "output_type": "execute_result",
          "data": {
            "text/html": [
              "<div>\n",
              "<style scoped>\n",
              "    .dataframe tbody tr th:only-of-type {\n",
              "        vertical-align: middle;\n",
              "    }\n",
              "\n",
              "    .dataframe tbody tr th {\n",
              "        vertical-align: top;\n",
              "    }\n",
              "\n",
              "    .dataframe thead th {\n",
              "        text-align: right;\n",
              "    }\n",
              "</style>\n",
              "<table border=\"1\" class=\"dataframe\">\n",
              "  <thead>\n",
              "    <tr style=\"text-align: right;\">\n",
              "      <th></th>\n",
              "      <th></th>\n",
              "      <th>0</th>\n",
              "      <th>1</th>\n",
              "      <th>2</th>\n",
              "      <th>3</th>\n",
              "    </tr>\n",
              "  </thead>\n",
              "  <tbody>\n",
              "    <tr>\n",
              "      <th>bar</th>\n",
              "      <th>one</th>\n",
              "      <td>-1.054704</td>\n",
              "      <td>1.114543</td>\n",
              "      <td>0.931603</td>\n",
              "      <td>-0.170913</td>\n",
              "    </tr>\n",
              "    <tr>\n",
              "      <th>baz</th>\n",
              "      <th>one</th>\n",
              "      <td>-0.451376</td>\n",
              "      <td>0.938344</td>\n",
              "      <td>0.397290</td>\n",
              "      <td>-1.046409</td>\n",
              "    </tr>\n",
              "    <tr>\n",
              "      <th>foo</th>\n",
              "      <th>one</th>\n",
              "      <td>0.217352</td>\n",
              "      <td>1.670534</td>\n",
              "      <td>0.627570</td>\n",
              "      <td>0.350163</td>\n",
              "    </tr>\n",
              "    <tr>\n",
              "      <th>qux</th>\n",
              "      <th>one</th>\n",
              "      <td>-0.414368</td>\n",
              "      <td>-0.725476</td>\n",
              "      <td>0.776740</td>\n",
              "      <td>0.019796</td>\n",
              "    </tr>\n",
              "  </tbody>\n",
              "</table>\n",
              "</div>"
            ],
            "text/plain": [
              "                0         1         2         3\n",
              "bar one -1.054704  1.114543  0.931603 -0.170913\n",
              "baz one -0.451376  0.938344  0.397290 -1.046409\n",
              "foo one  0.217352  1.670534  0.627570  0.350163\n",
              "qux one -0.414368 -0.725476  0.776740  0.019796"
            ]
          },
          "metadata": {
            "tags": []
          },
          "execution_count": 2
        }
      ]
    },
    {
      "cell_type": "code",
      "metadata": {
        "id": "r5o4vCJf54-w",
        "colab": {
          "base_uri": "https://localhost:8080/",
          "height": 235
        },
        "outputId": "750a1426-fa86-4964-b317-bd24b173174c"
      },
      "source": [
        "df.loc[slice(\"bar\",\"foo\"), :]"
      ],
      "execution_count": null,
      "outputs": [
        {
          "output_type": "execute_result",
          "data": {
            "text/html": [
              "<div>\n",
              "<style scoped>\n",
              "    .dataframe tbody tr th:only-of-type {\n",
              "        vertical-align: middle;\n",
              "    }\n",
              "\n",
              "    .dataframe tbody tr th {\n",
              "        vertical-align: top;\n",
              "    }\n",
              "\n",
              "    .dataframe thead th {\n",
              "        text-align: right;\n",
              "    }\n",
              "</style>\n",
              "<table border=\"1\" class=\"dataframe\">\n",
              "  <thead>\n",
              "    <tr style=\"text-align: right;\">\n",
              "      <th></th>\n",
              "      <th></th>\n",
              "      <th>0</th>\n",
              "      <th>1</th>\n",
              "      <th>2</th>\n",
              "      <th>3</th>\n",
              "    </tr>\n",
              "  </thead>\n",
              "  <tbody>\n",
              "    <tr>\n",
              "      <th rowspan=\"2\" valign=\"top\">bar</th>\n",
              "      <th>one</th>\n",
              "      <td>-1.054704</td>\n",
              "      <td>1.114543</td>\n",
              "      <td>0.931603</td>\n",
              "      <td>-0.170913</td>\n",
              "    </tr>\n",
              "    <tr>\n",
              "      <th>two</th>\n",
              "      <td>0.113791</td>\n",
              "      <td>-1.276736</td>\n",
              "      <td>-0.495499</td>\n",
              "      <td>-1.272756</td>\n",
              "    </tr>\n",
              "    <tr>\n",
              "      <th rowspan=\"2\" valign=\"top\">baz</th>\n",
              "      <th>one</th>\n",
              "      <td>-0.451376</td>\n",
              "      <td>0.938344</td>\n",
              "      <td>0.397290</td>\n",
              "      <td>-1.046409</td>\n",
              "    </tr>\n",
              "    <tr>\n",
              "      <th>two</th>\n",
              "      <td>-0.140578</td>\n",
              "      <td>-0.160463</td>\n",
              "      <td>0.597455</td>\n",
              "      <td>1.612180</td>\n",
              "    </tr>\n",
              "    <tr>\n",
              "      <th rowspan=\"2\" valign=\"top\">foo</th>\n",
              "      <th>one</th>\n",
              "      <td>0.217352</td>\n",
              "      <td>1.670534</td>\n",
              "      <td>0.627570</td>\n",
              "      <td>0.350163</td>\n",
              "    </tr>\n",
              "    <tr>\n",
              "      <th>two</th>\n",
              "      <td>-0.508933</td>\n",
              "      <td>0.577631</td>\n",
              "      <td>0.163347</td>\n",
              "      <td>-0.558216</td>\n",
              "    </tr>\n",
              "  </tbody>\n",
              "</table>\n",
              "</div>"
            ],
            "text/plain": [
              "                0         1         2         3\n",
              "bar one -1.054704  1.114543  0.931603 -0.170913\n",
              "    two  0.113791 -1.276736 -0.495499 -1.272756\n",
              "baz one -0.451376  0.938344  0.397290 -1.046409\n",
              "    two -0.140578 -0.160463  0.597455  1.612180\n",
              "foo one  0.217352  1.670534  0.627570  0.350163\n",
              "    two -0.508933  0.577631  0.163347 -0.558216"
            ]
          },
          "metadata": {
            "tags": []
          },
          "execution_count": 3
        }
      ]
    },
    {
      "cell_type": "code",
      "metadata": {
        "id": "Ug4aIL-16Cqi",
        "colab": {
          "base_uri": "https://localhost:8080/",
          "height": 102
        },
        "outputId": "d55618ad-5813-4221-da47-c4bc6dfd37f8"
      },
      "source": [
        "df.xs([\"bar\", \"one\"], axis=0)"
      ],
      "execution_count": null,
      "outputs": [
        {
          "output_type": "execute_result",
          "data": {
            "text/plain": [
              "0   -1.054704\n",
              "1    1.114543\n",
              "2    0.931603\n",
              "3   -0.170913\n",
              "Name: (bar, one), dtype: float64"
            ]
          },
          "metadata": {
            "tags": []
          },
          "execution_count": 13
        }
      ]
    },
    {
      "cell_type": "code",
      "metadata": {
        "id": "9EPZt2XoaApI"
      },
      "source": [
        ""
      ],
      "execution_count": null,
      "outputs": []
    }
  ]
}