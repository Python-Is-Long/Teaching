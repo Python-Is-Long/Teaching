{
  "nbformat": 4,
  "nbformat_minor": 0,
  "metadata": {
    "colab": {
      "name": "Pandas multiindex.ipynb",
      "provenance": [],
      "collapsed_sections": [],
      "include_colab_link": true
    },
    "kernelspec": {
      "name": "python3",
      "display_name": "Python 3"
    }
  },
  "cells": [
    {
      "cell_type": "markdown",
      "metadata": {
        "id": "view-in-github",
        "colab_type": "text"
      },
      "source": [
        "<a href=\"https://colab.research.google.com/github/Python-Is-Long/Teaching/blob/main/Pandas_multiindex.ipynb\" target=\"_parent\"><img src=\"https://colab.research.google.com/assets/colab-badge.svg\" alt=\"Open In Colab\"/></a>"
      ]
    },
    {
      "cell_type": "markdown",
      "metadata": {
        "id": "nP84az1u3dzQ"
      },
      "source": [
        "2020-6-19"
      ]
    },
    {
      "cell_type": "code",
      "metadata": {
        "id": "MJKH-BnHMeF2",
        "colab": {
          "base_uri": "https://localhost:8080/",
          "height": 297
        },
        "outputId": "c9f545b2-69e5-4f12-a723-25f207af828c"
      },
      "source": [
        "import numpy as np\n",
        "import pandas as pd\n",
        "arrays = [np.array(['bar', 'bar', 'baz', 'baz', 'foo', 'foo', 'qux', 'qux']),\n",
        "         np.array(['one', 'two', 'one', 'two', 'one', 'two', 'one', 'two'])]\n",
        "df = pd.DataFrame(np.random.randn(8, 4), index=arrays, columns=[\"A\",\"B\",\"C\",\"D\"])\n",
        "df"
      ],
      "execution_count": 3,
      "outputs": [
        {
          "output_type": "execute_result",
          "data": {
            "text/html": [
              "<div>\n",
              "<style scoped>\n",
              "    .dataframe tbody tr th:only-of-type {\n",
              "        vertical-align: middle;\n",
              "    }\n",
              "\n",
              "    .dataframe tbody tr th {\n",
              "        vertical-align: top;\n",
              "    }\n",
              "\n",
              "    .dataframe thead th {\n",
              "        text-align: right;\n",
              "    }\n",
              "</style>\n",
              "<table border=\"1\" class=\"dataframe\">\n",
              "  <thead>\n",
              "    <tr style=\"text-align: right;\">\n",
              "      <th></th>\n",
              "      <th></th>\n",
              "      <th>A</th>\n",
              "      <th>B</th>\n",
              "      <th>C</th>\n",
              "      <th>D</th>\n",
              "    </tr>\n",
              "  </thead>\n",
              "  <tbody>\n",
              "    <tr>\n",
              "      <th rowspan=\"2\" valign=\"top\">bar</th>\n",
              "      <th>one</th>\n",
              "      <td>-1.738309</td>\n",
              "      <td>0.370147</td>\n",
              "      <td>0.379156</td>\n",
              "      <td>0.295523</td>\n",
              "    </tr>\n",
              "    <tr>\n",
              "      <th>two</th>\n",
              "      <td>-0.015144</td>\n",
              "      <td>-0.228405</td>\n",
              "      <td>0.101533</td>\n",
              "      <td>-0.242296</td>\n",
              "    </tr>\n",
              "    <tr>\n",
              "      <th rowspan=\"2\" valign=\"top\">baz</th>\n",
              "      <th>one</th>\n",
              "      <td>1.384521</td>\n",
              "      <td>-0.235825</td>\n",
              "      <td>0.565244</td>\n",
              "      <td>0.610402</td>\n",
              "    </tr>\n",
              "    <tr>\n",
              "      <th>two</th>\n",
              "      <td>0.468480</td>\n",
              "      <td>0.315395</td>\n",
              "      <td>-0.260622</td>\n",
              "      <td>-0.273559</td>\n",
              "    </tr>\n",
              "    <tr>\n",
              "      <th rowspan=\"2\" valign=\"top\">foo</th>\n",
              "      <th>one</th>\n",
              "      <td>-0.662449</td>\n",
              "      <td>1.383327</td>\n",
              "      <td>0.459684</td>\n",
              "      <td>-0.810199</td>\n",
              "    </tr>\n",
              "    <tr>\n",
              "      <th>two</th>\n",
              "      <td>1.267199</td>\n",
              "      <td>1.429187</td>\n",
              "      <td>0.033428</td>\n",
              "      <td>-0.808687</td>\n",
              "    </tr>\n",
              "    <tr>\n",
              "      <th rowspan=\"2\" valign=\"top\">qux</th>\n",
              "      <th>one</th>\n",
              "      <td>0.655844</td>\n",
              "      <td>0.396928</td>\n",
              "      <td>0.487276</td>\n",
              "      <td>0.388873</td>\n",
              "    </tr>\n",
              "    <tr>\n",
              "      <th>two</th>\n",
              "      <td>-0.714877</td>\n",
              "      <td>-1.662198</td>\n",
              "      <td>-1.036312</td>\n",
              "      <td>-0.597922</td>\n",
              "    </tr>\n",
              "  </tbody>\n",
              "</table>\n",
              "</div>"
            ],
            "text/plain": [
              "                A         B         C         D\n",
              "bar one -1.738309  0.370147  0.379156  0.295523\n",
              "    two -0.015144 -0.228405  0.101533 -0.242296\n",
              "baz one  1.384521 -0.235825  0.565244  0.610402\n",
              "    two  0.468480  0.315395 -0.260622 -0.273559\n",
              "foo one -0.662449  1.383327  0.459684 -0.810199\n",
              "    two  1.267199  1.429187  0.033428 -0.808687\n",
              "qux one  0.655844  0.396928  0.487276  0.388873\n",
              "    two -0.714877 -1.662198 -1.036312 -0.597922"
            ]
          },
          "metadata": {
            "tags": []
          },
          "execution_count": 3
        }
      ]
    },
    {
      "cell_type": "markdown",
      "metadata": {
        "id": "HG0zUMCoBUMZ"
      },
      "source": [
        "# Indexing and slicing"
      ]
    },
    {
      "cell_type": "code",
      "metadata": {
        "id": "qYIBJjpiMpqn",
        "colab": {
          "base_uri": "https://localhost:8080/",
          "height": 173
        },
        "outputId": "d466d862-fe4b-418f-b705-5116c7ed7fe6"
      },
      "source": [
        "df.loc[pd.IndexSlice[:, \"one\"], :]"
      ],
      "execution_count": 4,
      "outputs": [
        {
          "output_type": "execute_result",
          "data": {
            "text/html": [
              "<div>\n",
              "<style scoped>\n",
              "    .dataframe tbody tr th:only-of-type {\n",
              "        vertical-align: middle;\n",
              "    }\n",
              "\n",
              "    .dataframe tbody tr th {\n",
              "        vertical-align: top;\n",
              "    }\n",
              "\n",
              "    .dataframe thead th {\n",
              "        text-align: right;\n",
              "    }\n",
              "</style>\n",
              "<table border=\"1\" class=\"dataframe\">\n",
              "  <thead>\n",
              "    <tr style=\"text-align: right;\">\n",
              "      <th></th>\n",
              "      <th></th>\n",
              "      <th>A</th>\n",
              "      <th>B</th>\n",
              "      <th>C</th>\n",
              "      <th>D</th>\n",
              "    </tr>\n",
              "  </thead>\n",
              "  <tbody>\n",
              "    <tr>\n",
              "      <th>bar</th>\n",
              "      <th>one</th>\n",
              "      <td>-1.738309</td>\n",
              "      <td>0.370147</td>\n",
              "      <td>0.379156</td>\n",
              "      <td>0.295523</td>\n",
              "    </tr>\n",
              "    <tr>\n",
              "      <th>baz</th>\n",
              "      <th>one</th>\n",
              "      <td>1.384521</td>\n",
              "      <td>-0.235825</td>\n",
              "      <td>0.565244</td>\n",
              "      <td>0.610402</td>\n",
              "    </tr>\n",
              "    <tr>\n",
              "      <th>foo</th>\n",
              "      <th>one</th>\n",
              "      <td>-0.662449</td>\n",
              "      <td>1.383327</td>\n",
              "      <td>0.459684</td>\n",
              "      <td>-0.810199</td>\n",
              "    </tr>\n",
              "    <tr>\n",
              "      <th>qux</th>\n",
              "      <th>one</th>\n",
              "      <td>0.655844</td>\n",
              "      <td>0.396928</td>\n",
              "      <td>0.487276</td>\n",
              "      <td>0.388873</td>\n",
              "    </tr>\n",
              "  </tbody>\n",
              "</table>\n",
              "</div>"
            ],
            "text/plain": [
              "                A         B         C         D\n",
              "bar one -1.738309  0.370147  0.379156  0.295523\n",
              "baz one  1.384521 -0.235825  0.565244  0.610402\n",
              "foo one -0.662449  1.383327  0.459684 -0.810199\n",
              "qux one  0.655844  0.396928  0.487276  0.388873"
            ]
          },
          "metadata": {
            "tags": []
          },
          "execution_count": 4
        }
      ]
    },
    {
      "cell_type": "code",
      "metadata": {
        "id": "r5o4vCJf54-w",
        "colab": {
          "base_uri": "https://localhost:8080/",
          "height": 235
        },
        "outputId": "e29b66d2-b477-4ca4-c4f7-bbd1e1ab9b70"
      },
      "source": [
        "df.loc[slice(\"bar\",\"foo\"), :]"
      ],
      "execution_count": 5,
      "outputs": [
        {
          "output_type": "execute_result",
          "data": {
            "text/html": [
              "<div>\n",
              "<style scoped>\n",
              "    .dataframe tbody tr th:only-of-type {\n",
              "        vertical-align: middle;\n",
              "    }\n",
              "\n",
              "    .dataframe tbody tr th {\n",
              "        vertical-align: top;\n",
              "    }\n",
              "\n",
              "    .dataframe thead th {\n",
              "        text-align: right;\n",
              "    }\n",
              "</style>\n",
              "<table border=\"1\" class=\"dataframe\">\n",
              "  <thead>\n",
              "    <tr style=\"text-align: right;\">\n",
              "      <th></th>\n",
              "      <th></th>\n",
              "      <th>A</th>\n",
              "      <th>B</th>\n",
              "      <th>C</th>\n",
              "      <th>D</th>\n",
              "    </tr>\n",
              "  </thead>\n",
              "  <tbody>\n",
              "    <tr>\n",
              "      <th rowspan=\"2\" valign=\"top\">bar</th>\n",
              "      <th>one</th>\n",
              "      <td>-1.738309</td>\n",
              "      <td>0.370147</td>\n",
              "      <td>0.379156</td>\n",
              "      <td>0.295523</td>\n",
              "    </tr>\n",
              "    <tr>\n",
              "      <th>two</th>\n",
              "      <td>-0.015144</td>\n",
              "      <td>-0.228405</td>\n",
              "      <td>0.101533</td>\n",
              "      <td>-0.242296</td>\n",
              "    </tr>\n",
              "    <tr>\n",
              "      <th rowspan=\"2\" valign=\"top\">baz</th>\n",
              "      <th>one</th>\n",
              "      <td>1.384521</td>\n",
              "      <td>-0.235825</td>\n",
              "      <td>0.565244</td>\n",
              "      <td>0.610402</td>\n",
              "    </tr>\n",
              "    <tr>\n",
              "      <th>two</th>\n",
              "      <td>0.468480</td>\n",
              "      <td>0.315395</td>\n",
              "      <td>-0.260622</td>\n",
              "      <td>-0.273559</td>\n",
              "    </tr>\n",
              "    <tr>\n",
              "      <th rowspan=\"2\" valign=\"top\">foo</th>\n",
              "      <th>one</th>\n",
              "      <td>-0.662449</td>\n",
              "      <td>1.383327</td>\n",
              "      <td>0.459684</td>\n",
              "      <td>-0.810199</td>\n",
              "    </tr>\n",
              "    <tr>\n",
              "      <th>two</th>\n",
              "      <td>1.267199</td>\n",
              "      <td>1.429187</td>\n",
              "      <td>0.033428</td>\n",
              "      <td>-0.808687</td>\n",
              "    </tr>\n",
              "  </tbody>\n",
              "</table>\n",
              "</div>"
            ],
            "text/plain": [
              "                A         B         C         D\n",
              "bar one -1.738309  0.370147  0.379156  0.295523\n",
              "    two -0.015144 -0.228405  0.101533 -0.242296\n",
              "baz one  1.384521 -0.235825  0.565244  0.610402\n",
              "    two  0.468480  0.315395 -0.260622 -0.273559\n",
              "foo one -0.662449  1.383327  0.459684 -0.810199\n",
              "    two  1.267199  1.429187  0.033428 -0.808687"
            ]
          },
          "metadata": {
            "tags": []
          },
          "execution_count": 5
        }
      ]
    },
    {
      "cell_type": "code",
      "metadata": {
        "id": "Ug4aIL-16Cqi",
        "colab": {
          "base_uri": "https://localhost:8080/"
        },
        "outputId": "b2525cf8-02df-43ee-fd07-f6306099ff65"
      },
      "source": [
        "df.xs([\"bar\", \"one\"], axis=0)"
      ],
      "execution_count": 6,
      "outputs": [
        {
          "output_type": "execute_result",
          "data": {
            "text/plain": [
              "A   -1.738309\n",
              "B    0.370147\n",
              "C    0.379156\n",
              "D    0.295523\n",
              "Name: (bar, one), dtype: float64"
            ]
          },
          "metadata": {
            "tags": []
          },
          "execution_count": 6
        }
      ]
    },
    {
      "cell_type": "code",
      "metadata": {
        "id": "9EPZt2XoaApI",
        "colab": {
          "base_uri": "https://localhost:8080/",
          "height": 235
        },
        "outputId": "29a56200-1f30-430e-b587-5693614be8ce"
      },
      "source": [
        "df.loc[slice(\"bar\",\"foo\"), [\"A\",\"C\"]]"
      ],
      "execution_count": 7,
      "outputs": [
        {
          "output_type": "execute_result",
          "data": {
            "text/html": [
              "<div>\n",
              "<style scoped>\n",
              "    .dataframe tbody tr th:only-of-type {\n",
              "        vertical-align: middle;\n",
              "    }\n",
              "\n",
              "    .dataframe tbody tr th {\n",
              "        vertical-align: top;\n",
              "    }\n",
              "\n",
              "    .dataframe thead th {\n",
              "        text-align: right;\n",
              "    }\n",
              "</style>\n",
              "<table border=\"1\" class=\"dataframe\">\n",
              "  <thead>\n",
              "    <tr style=\"text-align: right;\">\n",
              "      <th></th>\n",
              "      <th></th>\n",
              "      <th>A</th>\n",
              "      <th>C</th>\n",
              "    </tr>\n",
              "  </thead>\n",
              "  <tbody>\n",
              "    <tr>\n",
              "      <th rowspan=\"2\" valign=\"top\">bar</th>\n",
              "      <th>one</th>\n",
              "      <td>-1.738309</td>\n",
              "      <td>0.379156</td>\n",
              "    </tr>\n",
              "    <tr>\n",
              "      <th>two</th>\n",
              "      <td>-0.015144</td>\n",
              "      <td>0.101533</td>\n",
              "    </tr>\n",
              "    <tr>\n",
              "      <th rowspan=\"2\" valign=\"top\">baz</th>\n",
              "      <th>one</th>\n",
              "      <td>1.384521</td>\n",
              "      <td>0.565244</td>\n",
              "    </tr>\n",
              "    <tr>\n",
              "      <th>two</th>\n",
              "      <td>0.468480</td>\n",
              "      <td>-0.260622</td>\n",
              "    </tr>\n",
              "    <tr>\n",
              "      <th rowspan=\"2\" valign=\"top\">foo</th>\n",
              "      <th>one</th>\n",
              "      <td>-0.662449</td>\n",
              "      <td>0.459684</td>\n",
              "    </tr>\n",
              "    <tr>\n",
              "      <th>two</th>\n",
              "      <td>1.267199</td>\n",
              "      <td>0.033428</td>\n",
              "    </tr>\n",
              "  </tbody>\n",
              "</table>\n",
              "</div>"
            ],
            "text/plain": [
              "                A         C\n",
              "bar one -1.738309  0.379156\n",
              "    two -0.015144  0.101533\n",
              "baz one  1.384521  0.565244\n",
              "    two  0.468480 -0.260622\n",
              "foo one -0.662449  0.459684\n",
              "    two  1.267199  0.033428"
            ]
          },
          "metadata": {
            "tags": []
          },
          "execution_count": 7
        }
      ]
    },
    {
      "cell_type": "markdown",
      "metadata": {
        "id": "tN0XiMssBSQN"
      },
      "source": [
        "# Filtering"
      ]
    },
    {
      "cell_type": "code",
      "metadata": {
        "colab": {
          "base_uri": "https://localhost:8080/",
          "height": 142
        },
        "id": "lh6R8NqWBB4r",
        "outputId": "32bc1435-a028-4cbe-978d-f41ad2889877"
      },
      "source": [
        "df[(df[\"A\"]>0) & (df[\"C\"]>0)]"
      ],
      "execution_count": 15,
      "outputs": [
        {
          "output_type": "execute_result",
          "data": {
            "text/html": [
              "<div>\n",
              "<style scoped>\n",
              "    .dataframe tbody tr th:only-of-type {\n",
              "        vertical-align: middle;\n",
              "    }\n",
              "\n",
              "    .dataframe tbody tr th {\n",
              "        vertical-align: top;\n",
              "    }\n",
              "\n",
              "    .dataframe thead th {\n",
              "        text-align: right;\n",
              "    }\n",
              "</style>\n",
              "<table border=\"1\" class=\"dataframe\">\n",
              "  <thead>\n",
              "    <tr style=\"text-align: right;\">\n",
              "      <th></th>\n",
              "      <th></th>\n",
              "      <th>A</th>\n",
              "      <th>B</th>\n",
              "      <th>C</th>\n",
              "      <th>D</th>\n",
              "    </tr>\n",
              "  </thead>\n",
              "  <tbody>\n",
              "    <tr>\n",
              "      <th>baz</th>\n",
              "      <th>one</th>\n",
              "      <td>1.384521</td>\n",
              "      <td>-0.235825</td>\n",
              "      <td>0.565244</td>\n",
              "      <td>0.610402</td>\n",
              "    </tr>\n",
              "    <tr>\n",
              "      <th>foo</th>\n",
              "      <th>two</th>\n",
              "      <td>1.267199</td>\n",
              "      <td>1.429187</td>\n",
              "      <td>0.033428</td>\n",
              "      <td>-0.808687</td>\n",
              "    </tr>\n",
              "    <tr>\n",
              "      <th>qux</th>\n",
              "      <th>one</th>\n",
              "      <td>0.655844</td>\n",
              "      <td>0.396928</td>\n",
              "      <td>0.487276</td>\n",
              "      <td>0.388873</td>\n",
              "    </tr>\n",
              "  </tbody>\n",
              "</table>\n",
              "</div>"
            ],
            "text/plain": [
              "                A         B         C         D\n",
              "baz one  1.384521 -0.235825  0.565244  0.610402\n",
              "foo two  1.267199  1.429187  0.033428 -0.808687\n",
              "qux one  0.655844  0.396928  0.487276  0.388873"
            ]
          },
          "metadata": {
            "tags": []
          },
          "execution_count": 15
        }
      ]
    },
    {
      "cell_type": "code",
      "metadata": {
        "colab": {
          "base_uri": "https://localhost:8080/",
          "height": 111
        },
        "id": "gGldGPArAzPE",
        "outputId": "09751f11-3c72-4a65-b883-4d293ab1e945"
      },
      "source": [
        "df[(df[\"A\"]>0) & (df[\"C\"]>0)].loc[pd.IndexSlice[:, [\"one\"]], :]"
      ],
      "execution_count": 18,
      "outputs": [
        {
          "output_type": "execute_result",
          "data": {
            "text/html": [
              "<div>\n",
              "<style scoped>\n",
              "    .dataframe tbody tr th:only-of-type {\n",
              "        vertical-align: middle;\n",
              "    }\n",
              "\n",
              "    .dataframe tbody tr th {\n",
              "        vertical-align: top;\n",
              "    }\n",
              "\n",
              "    .dataframe thead th {\n",
              "        text-align: right;\n",
              "    }\n",
              "</style>\n",
              "<table border=\"1\" class=\"dataframe\">\n",
              "  <thead>\n",
              "    <tr style=\"text-align: right;\">\n",
              "      <th></th>\n",
              "      <th></th>\n",
              "      <th>A</th>\n",
              "      <th>B</th>\n",
              "      <th>C</th>\n",
              "      <th>D</th>\n",
              "    </tr>\n",
              "  </thead>\n",
              "  <tbody>\n",
              "    <tr>\n",
              "      <th>baz</th>\n",
              "      <th>one</th>\n",
              "      <td>1.384521</td>\n",
              "      <td>-0.235825</td>\n",
              "      <td>0.565244</td>\n",
              "      <td>0.610402</td>\n",
              "    </tr>\n",
              "    <tr>\n",
              "      <th>qux</th>\n",
              "      <th>one</th>\n",
              "      <td>0.655844</td>\n",
              "      <td>0.396928</td>\n",
              "      <td>0.487276</td>\n",
              "      <td>0.388873</td>\n",
              "    </tr>\n",
              "  </tbody>\n",
              "</table>\n",
              "</div>"
            ],
            "text/plain": [
              "                A         B         C         D\n",
              "baz one  1.384521 -0.235825  0.565244  0.610402\n",
              "qux one  0.655844  0.396928  0.487276  0.388873"
            ]
          },
          "metadata": {
            "tags": []
          },
          "execution_count": 18
        }
      ]
    }
  ]
}