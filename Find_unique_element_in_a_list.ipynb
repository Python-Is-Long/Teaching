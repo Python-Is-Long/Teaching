{
  "nbformat": 4,
  "nbformat_minor": 0,
  "metadata": {
    "colab": {
      "name": "Find unique element in a list.ipynb",
      "provenance": [],
      "collapsed_sections": [],
      "authorship_tag": "ABX9TyP6HnI/cSnDkCVHjoXGeYau",
      "include_colab_link": true
    },
    "kernelspec": {
      "name": "python3",
      "display_name": "Python 3"
    }
  },
  "cells": [
    {
      "cell_type": "markdown",
      "metadata": {
        "id": "view-in-github",
        "colab_type": "text"
      },
      "source": [
        "<a href=\"https://colab.research.google.com/github/Python-Is-Long/Teaching/blob/main/Find_unique_element_in_a_list.ipynb\" target=\"_parent\"><img src=\"https://colab.research.google.com/assets/colab-badge.svg\" alt=\"Open In Colab\"/></a>"
      ]
    },
    {
      "cell_type": "markdown",
      "metadata": {
        "id": "RcaVNX8Ol0wk"
      },
      "source": [
        "2021-2-25"
      ]
    },
    {
      "cell_type": "code",
      "metadata": {
        "id": "pQM0CBHLlve5"
      },
      "source": [
        "my_list = [5,0,1,0,1,2,3,3,5,\"a\",\"a\",\"b\",\"b\",\"hello\"]"
      ],
      "execution_count": null,
      "outputs": []
    },
    {
      "cell_type": "markdown",
      "metadata": {
        "id": "p5uc5J9Vnk5z"
      },
      "source": [
        "# Solution 1: using Counter\r\n",
        "Generalizable"
      ]
    },
    {
      "cell_type": "code",
      "metadata": {
        "colab": {
          "base_uri": "https://localhost:8080/"
        },
        "id": "evlMAmUummPI",
        "outputId": "eeb57cdd-20e4-46d5-edd3-93e24f689939"
      },
      "source": [
        "from collections import Counter\r\n",
        "for key,val in dict(Counter(my_list)).items():\r\n",
        "  if val == 1:\r\n",
        "    print(f\"{key} has occurred only once in the list\")"
      ],
      "execution_count": null,
      "outputs": [
        {
          "output_type": "stream",
          "text": [
            "2 has occurred only once in the list\n",
            "hello has occurred only once in the list\n"
          ],
          "name": "stdout"
        }
      ]
    },
    {
      "cell_type": "markdown",
      "metadata": {
        "id": "UoguTyj2ntOC"
      },
      "source": [
        "# Solution 2: using set and custom counting function\r\n",
        "Generalizable"
      ]
    },
    {
      "cell_type": "code",
      "metadata": {
        "id": "YiGztRmwnw8o"
      },
      "source": [
        "my_list = [5,0,1,0,1,2,3,3,5]"
      ],
      "execution_count": null,
      "outputs": []
    },
    {
      "cell_type": "code",
      "metadata": {
        "id": "H4mYerltoEhI"
      },
      "source": [
        "def count_occurrence(v, l):\r\n",
        "  count = 0\r\n",
        "  for x in l:\r\n",
        "    if x==v: count+=1\r\n",
        "  return count"
      ],
      "execution_count": null,
      "outputs": []
    },
    {
      "cell_type": "code",
      "metadata": {
        "colab": {
          "base_uri": "https://localhost:8080/"
        },
        "id": "ttXWjQ7EpERp",
        "outputId": "8690fa41-5d20-4e52-9109-6d448bb31f47"
      },
      "source": [
        "count_occurrence(2, my_list)"
      ],
      "execution_count": null,
      "outputs": [
        {
          "output_type": "execute_result",
          "data": {
            "text/plain": [
              "1"
            ]
          },
          "metadata": {
            "tags": []
          },
          "execution_count": 35
        }
      ]
    },
    {
      "cell_type": "code",
      "metadata": {
        "colab": {
          "base_uri": "https://localhost:8080/"
        },
        "id": "QIkmVh4qmLWm",
        "outputId": "aa00d7e3-ebc9-4afb-f12c-a67d0cdfe186"
      },
      "source": [
        "[val for val in set(my_list) if count_occurrence(val, my_list) == 1]"
      ],
      "execution_count": null,
      "outputs": [
        {
          "output_type": "execute_result",
          "data": {
            "text/plain": [
              "[2]"
            ]
          },
          "metadata": {
            "tags": []
          },
          "execution_count": 36
        }
      ]
    },
    {
      "cell_type": "markdown",
      "metadata": {
        "id": "r1RmCXMqpzUw"
      },
      "source": [
        "# Solution 3: using set and sum\r\n",
        "Not generalizable. This assumes:\r\n",
        "\r\n",
        "1) there is only one element with one occurrence\r\n",
        "\r\n",
        "2) each of the rest elements occurs twice\r\n",
        "\r\n",
        "2) all elements are numbers"
      ]
    },
    {
      "cell_type": "code",
      "metadata": {
        "colab": {
          "base_uri": "https://localhost:8080/"
        },
        "id": "Qb10hIdDpv9x",
        "outputId": "5c5f295b-d010-4777-e79a-279da13f6faa"
      },
      "source": [
        "my_list = [5,0,1,0,1,2,3,3,5]\r\n",
        "set(my_list)"
      ],
      "execution_count": null,
      "outputs": [
        {
          "output_type": "execute_result",
          "data": {
            "text/plain": [
              "{0, 1, 2, 3, 5}"
            ]
          },
          "metadata": {
            "tags": []
          },
          "execution_count": 38
        }
      ]
    },
    {
      "cell_type": "code",
      "metadata": {
        "colab": {
          "base_uri": "https://localhost:8080/"
        },
        "id": "baIb-hRvnwOJ",
        "outputId": "f746d3dd-b01c-4047-d7e7-31de84c9e5a0"
      },
      "source": [
        "sum(my_list) #2X+y"
      ],
      "execution_count": null,
      "outputs": [
        {
          "output_type": "execute_result",
          "data": {
            "text/plain": [
              "20"
            ]
          },
          "metadata": {
            "tags": []
          },
          "execution_count": 39
        }
      ]
    },
    {
      "cell_type": "code",
      "metadata": {
        "colab": {
          "base_uri": "https://localhost:8080/"
        },
        "id": "AIYoAgqdqDKJ",
        "outputId": "ffbaf223-6672-4d6f-d24f-f8c275c9d577"
      },
      "source": [
        "sum(set(my_list)) #X+y"
      ],
      "execution_count": null,
      "outputs": [
        {
          "output_type": "execute_result",
          "data": {
            "text/plain": [
              "11"
            ]
          },
          "metadata": {
            "tags": []
          },
          "execution_count": 40
        }
      ]
    },
    {
      "cell_type": "markdown",
      "metadata": {
        "id": "ViGeYUssq_fc"
      },
      "source": [
        "2(X+y) - (2X+y) = y"
      ]
    },
    {
      "cell_type": "code",
      "metadata": {
        "colab": {
          "base_uri": "https://localhost:8080/"
        },
        "id": "6i52WHssqbFE",
        "outputId": "c33f4a9a-bb6c-4789-e400-3ab554022c66"
      },
      "source": [
        "2*sum(set(my_list))-sum(my_list)"
      ],
      "execution_count": null,
      "outputs": [
        {
          "output_type": "execute_result",
          "data": {
            "text/plain": [
              "2"
            ]
          },
          "metadata": {
            "tags": []
          },
          "execution_count": 42
        }
      ]
    },
    {
      "cell_type": "markdown",
      "metadata": {
        "id": "5ucVoSQ7i2f3"
      },
      "source": [
        "# Solution 4: using set and built-in list.count() function\r\n",
        "Generalizable and Pythonic ✔"
      ]
    },
    {
      "cell_type": "code",
      "metadata": {
        "colab": {
          "base_uri": "https://localhost:8080/"
        },
        "id": "QXml7UTBwUU_",
        "outputId": "041686d1-be19-4434-e554-9840d17e6aa3"
      },
      "source": [
        "my_list = [5,0,1,0,1,2,3,3,5,\"a\",\"a\",\"b\",\"b\",\"hello\"]\r\n",
        "[x for x in set(my_list) if my_list.count(x)==1]"
      ],
      "execution_count": null,
      "outputs": [
        {
          "output_type": "execute_result",
          "data": {
            "text/plain": [
              "[2, 'hello']"
            ]
          },
          "metadata": {
            "tags": []
          },
          "execution_count": 35
        }
      ]
    }
  ]
}