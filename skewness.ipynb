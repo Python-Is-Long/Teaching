{
  "nbformat": 4,
  "nbformat_minor": 0,
  "metadata": {
    "colab": {
      "name": "skewness.ipynb",
      "provenance": [],
      "collapsed_sections": [],
      "authorship_tag": "ABX9TyPvaSRKm/g2XGENZ7pgskvn",
      "include_colab_link": true
    },
    "kernelspec": {
      "name": "python3",
      "display_name": "Python 3"
    }
  },
  "cells": [
    {
      "cell_type": "markdown",
      "metadata": {
        "id": "view-in-github",
        "colab_type": "text"
      },
      "source": [
        "<a href=\"https://colab.research.google.com/github/Python-Is-Long/Teaching/blob/main/skewness.ipynb\" target=\"_parent\"><img src=\"https://colab.research.google.com/assets/colab-badge.svg\" alt=\"Open In Colab\"/></a>"
      ]
    },
    {
      "cell_type": "markdown",
      "metadata": {
        "id": "7Bki5q3FqTyu"
      },
      "source": [
        "2020-10-31"
      ]
    },
    {
      "cell_type": "code",
      "metadata": {
        "id": "UskJoZS6qRCh"
      },
      "source": [
        "import pandas as pd\n",
        "import numpy as np"
      ],
      "execution_count": null,
      "outputs": []
    },
    {
      "cell_type": "code",
      "metadata": {
        "id": "r3guGJyAqW69",
        "colab": {
          "base_uri": "https://localhost:8080/"
        },
        "outputId": "80254e19-d122-4a57-cf81-48862260b111"
      },
      "source": [
        "pd.Series([2,10,15,25,30,25,15,10,2]).skew()"
      ],
      "execution_count": null,
      "outputs": [
        {
          "output_type": "execute_result",
          "data": {
            "text/plain": [
              "0.15721707113547337"
            ]
          },
          "metadata": {
            "tags": []
          },
          "execution_count": 10
        }
      ]
    },
    {
      "cell_type": "code",
      "metadata": {
        "id": "AISVqbs3qefp",
        "colab": {
          "base_uri": "https://localhost:8080/"
        },
        "outputId": "cb59b430-299a-4ec9-ee88-12e7c98487fa"
      },
      "source": [
        "pd.Series([2,2,10,10,15,15,25,25,30]).skew()"
      ],
      "execution_count": null,
      "outputs": [
        {
          "output_type": "execute_result",
          "data": {
            "text/plain": [
              "0.1572170711354733"
            ]
          },
          "metadata": {
            "tags": []
          },
          "execution_count": 11
        }
      ]
    },
    {
      "cell_type": "markdown",
      "metadata": {
        "id": "fa-MMCgWq5il"
      },
      "source": [
        "Skewness is not affected by the order of the values. It reflects the difference between the mean and the median."
      ]
    },
    {
      "cell_type": "code",
      "metadata": {
        "id": "s57nvyhGqwuH",
        "colab": {
          "base_uri": "https://localhost:8080/"
        },
        "outputId": "00402546-e4eb-42e7-e0e0-0908931e92fd"
      },
      "source": [
        "pd.Series([2,2,10,10,15,15,25,25,30]).mean()"
      ],
      "execution_count": null,
      "outputs": [
        {
          "output_type": "execute_result",
          "data": {
            "text/plain": [
              "14.88888888888889"
            ]
          },
          "metadata": {
            "tags": []
          },
          "execution_count": 12
        }
      ]
    },
    {
      "cell_type": "code",
      "metadata": {
        "id": "4vc20FnnrDWW",
        "colab": {
          "base_uri": "https://localhost:8080/"
        },
        "outputId": "ff40dd47-79f3-4e5a-df3c-e6ddb7b69f94"
      },
      "source": [
        "pd.Series([2,2,10,10,15,15,25,25,30]).median()"
      ],
      "execution_count": null,
      "outputs": [
        {
          "output_type": "execute_result",
          "data": {
            "text/plain": [
              "15.0"
            ]
          },
          "metadata": {
            "tags": []
          },
          "execution_count": 13
        }
      ]
    },
    {
      "cell_type": "code",
      "metadata": {
        "id": "GSVrg_m-rEov"
      },
      "source": [
        ""
      ],
      "execution_count": null,
      "outputs": []
    }
  ]
}