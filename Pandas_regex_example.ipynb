{
  "nbformat": 4,
  "nbformat_minor": 0,
  "metadata": {
    "kernelspec": {
      "display_name": "Python 3",
      "language": "python",
      "name": "python3"
    },
    "language_info": {
      "codemirror_mode": {
        "name": "ipython",
        "version": 3
      },
      "file_extension": ".py",
      "mimetype": "text/x-python",
      "name": "python",
      "nbconvert_exporter": "python",
      "pygments_lexer": "ipython3",
      "version": "3.7.3"
    },
    "toc": {
      "base_numbering": 1,
      "nav_menu": {},
      "number_sections": true,
      "sideBar": true,
      "skip_h1_title": true,
      "title_cell": "Table of Contents",
      "title_sidebar": "Contents",
      "toc_cell": false,
      "toc_position": {},
      "toc_section_display": true,
      "toc_window_display": false
    },
    "colab": {
      "name": "Pandas regex example.ipynb",
      "provenance": [],
      "collapsed_sections": [],
      "include_colab_link": true
    }
  },
  "cells": [
    {
      "cell_type": "markdown",
      "metadata": {
        "id": "view-in-github",
        "colab_type": "text"
      },
      "source": [
        "<a href=\"https://colab.research.google.com/github/Python-Is-Long/Teaching/blob/main/Pandas_regex_example.ipynb\" target=\"_parent\"><img src=\"https://colab.research.google.com/assets/colab-badge.svg\" alt=\"Open In Colab\"/></a>"
      ]
    },
    {
      "cell_type": "markdown",
      "metadata": {
        "id": "kHNhf_Xw3WjA"
      },
      "source": [
        "2020-6-14"
      ]
    },
    {
      "cell_type": "code",
      "metadata": {
        "id": "gp5qLUq7puLh",
        "colab": {
          "base_uri": "https://localhost:8080/",
          "height": 173
        },
        "outputId": "bd270024-c6a4-4a7e-c6a8-e1d67ee654fa"
      },
      "source": [
        "import pandas as pd\n",
        "import numpy as np\n",
        "import re\n",
        "from IPython.display import display\n",
        "\n",
        "#define dataframe\n",
        "df = pd.DataFrame(\n",
        "  {\n",
        "    \"col1\": [\"@__@\", np.nan, \"www\", 0.555],\n",
        "    \"col2\": [888, \"COVID19\", \"google\", \"w3schools\"],\n",
        "    \"col3\": [np.nan, \"float64\", \"weeeeeeeee\", np.nan],\n",
        "    \"col4\": [\"mmmmmm\", \"int\", \"Hello\", \"(-__-)!!\"],\n",
        "  },\n",
        "  index=[\"row1\", \"row2\", \"row3\", \"row4\"],\n",
        ")\n",
        "df"
      ],
      "execution_count": null,
      "outputs": [
        {
          "output_type": "execute_result",
          "data": {
            "text/html": [
              "<div>\n",
              "<style scoped>\n",
              "    .dataframe tbody tr th:only-of-type {\n",
              "        vertical-align: middle;\n",
              "    }\n",
              "\n",
              "    .dataframe tbody tr th {\n",
              "        vertical-align: top;\n",
              "    }\n",
              "\n",
              "    .dataframe thead th {\n",
              "        text-align: right;\n",
              "    }\n",
              "</style>\n",
              "<table border=\"1\" class=\"dataframe\">\n",
              "  <thead>\n",
              "    <tr style=\"text-align: right;\">\n",
              "      <th></th>\n",
              "      <th>col1</th>\n",
              "      <th>col2</th>\n",
              "      <th>col3</th>\n",
              "      <th>col4</th>\n",
              "    </tr>\n",
              "  </thead>\n",
              "  <tbody>\n",
              "    <tr>\n",
              "      <th>row1</th>\n",
              "      <td>@__@</td>\n",
              "      <td>888</td>\n",
              "      <td>NaN</td>\n",
              "      <td>mmmmmm</td>\n",
              "    </tr>\n",
              "    <tr>\n",
              "      <th>row2</th>\n",
              "      <td>NaN</td>\n",
              "      <td>COVID19</td>\n",
              "      <td>float64</td>\n",
              "      <td>int</td>\n",
              "    </tr>\n",
              "    <tr>\n",
              "      <th>row3</th>\n",
              "      <td>www</td>\n",
              "      <td>google</td>\n",
              "      <td>weeeeeeeee</td>\n",
              "      <td>Hello</td>\n",
              "    </tr>\n",
              "    <tr>\n",
              "      <th>row4</th>\n",
              "      <td>0.555</td>\n",
              "      <td>w3schools</td>\n",
              "      <td>NaN</td>\n",
              "      <td>(-__-)!!</td>\n",
              "    </tr>\n",
              "  </tbody>\n",
              "</table>\n",
              "</div>"
            ],
            "text/plain": [
              "       col1       col2        col3      col4\n",
              "row1   @__@        888         NaN    mmmmmm\n",
              "row2    NaN    COVID19     float64       int\n",
              "row3    www     google  weeeeeeeee     Hello\n",
              "row4  0.555  w3schools         NaN  (-__-)!!"
            ]
          },
          "metadata": {
            "tags": []
          },
          "execution_count": 4
        }
      ]
    },
    {
      "cell_type": "code",
      "metadata": {
        "id": "OPoptJ86uZ5U",
        "colab": {
          "base_uri": "https://localhost:8080/",
          "height": 165
        },
        "outputId": "7b39c8b8-8e15-4353-c5c6-5b715a0381ef"
      },
      "source": [
        "#search with regex\n",
        "my_filter = df[\"col2\"].str.contains('^COVID')\n",
        "display(my_filter)\n",
        "df[my_filter==True]"
      ],
      "execution_count": null,
      "outputs": [
        {
          "output_type": "display_data",
          "data": {
            "text/plain": [
              "row1      NaN\n",
              "row2     True\n",
              "row3    False\n",
              "row4    False\n",
              "Name: col2, dtype: object"
            ]
          },
          "metadata": {
            "tags": []
          }
        },
        {
          "output_type": "execute_result",
          "data": {
            "text/html": [
              "<div>\n",
              "<style scoped>\n",
              "    .dataframe tbody tr th:only-of-type {\n",
              "        vertical-align: middle;\n",
              "    }\n",
              "\n",
              "    .dataframe tbody tr th {\n",
              "        vertical-align: top;\n",
              "    }\n",
              "\n",
              "    .dataframe thead th {\n",
              "        text-align: right;\n",
              "    }\n",
              "</style>\n",
              "<table border=\"1\" class=\"dataframe\">\n",
              "  <thead>\n",
              "    <tr style=\"text-align: right;\">\n",
              "      <th></th>\n",
              "      <th>col1</th>\n",
              "      <th>col2</th>\n",
              "      <th>col3</th>\n",
              "      <th>col4</th>\n",
              "    </tr>\n",
              "  </thead>\n",
              "  <tbody>\n",
              "    <tr>\n",
              "      <th>row2</th>\n",
              "      <td>NaN</td>\n",
              "      <td>COVID19</td>\n",
              "      <td>float64</td>\n",
              "      <td>int</td>\n",
              "    </tr>\n",
              "  </tbody>\n",
              "</table>\n",
              "</div>"
            ],
            "text/plain": [
              "     col1     col2     col3 col4\n",
              "row2  NaN  COVID19  float64  int"
            ]
          },
          "metadata": {
            "tags": []
          },
          "execution_count": 7
        }
      ]
    },
    {
      "cell_type": "code",
      "metadata": {
        "id": "OYWBkUqErjTu",
        "colab": {
          "base_uri": "https://localhost:8080/",
          "height": 51
        },
        "outputId": "036ee4f6-00a7-4e4f-d72d-e983d50c15a5"
      },
      "source": [
        "#test a regular expression to see if it works\n",
        "print(re.search(\"^[A-z]+$\", \"weeeeeeeee\"))\n",
        "print(re.search(\"^[A-z]+$\", \"w3schools\"))"
      ],
      "execution_count": null,
      "outputs": [
        {
          "output_type": "stream",
          "text": [
            "<_sre.SRE_Match object; span=(0, 10), match='weeeeeeeee'>\n",
            "None\n"
          ],
          "name": "stdout"
        }
      ]
    },
    {
      "cell_type": "code",
      "metadata": {
        "id": "S7fOwA_YrZid",
        "colab": {
          "base_uri": "https://localhost:8080/",
          "height": 173
        },
        "outputId": "4d4af3c2-d96c-417a-9b4b-b4989af27224"
      },
      "source": [
        "#use df.apply to create a new column storing the check result of the custom search conditions (this is actually a feature engineering technique used in data analysis and machine learning very often)\n",
        "df[\"custom_condition_matched\"] = df[[\"col1\", \"col2\", \"col3\", \"col4\"]].apply(lambda row: all([re.search(\"^[A-z]+$\", str(cell)) for cell in row]), axis=1)\n",
        "df"
      ],
      "execution_count": null,
      "outputs": [
        {
          "output_type": "execute_result",
          "data": {
            "text/html": [
              "<div>\n",
              "<style scoped>\n",
              "    .dataframe tbody tr th:only-of-type {\n",
              "        vertical-align: middle;\n",
              "    }\n",
              "\n",
              "    .dataframe tbody tr th {\n",
              "        vertical-align: top;\n",
              "    }\n",
              "\n",
              "    .dataframe thead th {\n",
              "        text-align: right;\n",
              "    }\n",
              "</style>\n",
              "<table border=\"1\" class=\"dataframe\">\n",
              "  <thead>\n",
              "    <tr style=\"text-align: right;\">\n",
              "      <th></th>\n",
              "      <th>col1</th>\n",
              "      <th>col2</th>\n",
              "      <th>col3</th>\n",
              "      <th>col4</th>\n",
              "      <th>custom_condition_matched</th>\n",
              "    </tr>\n",
              "  </thead>\n",
              "  <tbody>\n",
              "    <tr>\n",
              "      <th>row1</th>\n",
              "      <td>@__@</td>\n",
              "      <td>888</td>\n",
              "      <td>NaN</td>\n",
              "      <td>mmmmmm</td>\n",
              "      <td>False</td>\n",
              "    </tr>\n",
              "    <tr>\n",
              "      <th>row2</th>\n",
              "      <td>NaN</td>\n",
              "      <td>COVID19</td>\n",
              "      <td>float64</td>\n",
              "      <td>int</td>\n",
              "      <td>False</td>\n",
              "    </tr>\n",
              "    <tr>\n",
              "      <th>row3</th>\n",
              "      <td>www</td>\n",
              "      <td>google</td>\n",
              "      <td>weeeeeeeee</td>\n",
              "      <td>Hello</td>\n",
              "      <td>True</td>\n",
              "    </tr>\n",
              "    <tr>\n",
              "      <th>row4</th>\n",
              "      <td>0.555</td>\n",
              "      <td>w3schools</td>\n",
              "      <td>NaN</td>\n",
              "      <td>(-__-)!!</td>\n",
              "      <td>False</td>\n",
              "    </tr>\n",
              "  </tbody>\n",
              "</table>\n",
              "</div>"
            ],
            "text/plain": [
              "       col1       col2        col3      col4  custom_condition_matched\n",
              "row1   @__@        888         NaN    mmmmmm                     False\n",
              "row2    NaN    COVID19     float64       int                     False\n",
              "row3    www     google  weeeeeeeee     Hello                      True\n",
              "row4  0.555  w3schools         NaN  (-__-)!!                     False"
            ]
          },
          "metadata": {
            "tags": []
          },
          "execution_count": 4
        }
      ]
    },
    {
      "cell_type": "code",
      "metadata": {
        "id": "-joKBL2RtrJk",
        "colab": {
          "base_uri": "https://localhost:8080/",
          "height": 80
        },
        "outputId": "fb046b1c-8c80-4a52-92ed-7229efaecaa0"
      },
      "source": [
        "#filter the dataframe using the new column storing the result of custom search\n",
        "df[df[\"custom_condition_matched\"]==1]"
      ],
      "execution_count": null,
      "outputs": [
        {
          "output_type": "execute_result",
          "data": {
            "text/html": [
              "<div>\n",
              "<style scoped>\n",
              "    .dataframe tbody tr th:only-of-type {\n",
              "        vertical-align: middle;\n",
              "    }\n",
              "\n",
              "    .dataframe tbody tr th {\n",
              "        vertical-align: top;\n",
              "    }\n",
              "\n",
              "    .dataframe thead th {\n",
              "        text-align: right;\n",
              "    }\n",
              "</style>\n",
              "<table border=\"1\" class=\"dataframe\">\n",
              "  <thead>\n",
              "    <tr style=\"text-align: right;\">\n",
              "      <th></th>\n",
              "      <th>col1</th>\n",
              "      <th>col2</th>\n",
              "      <th>col3</th>\n",
              "      <th>col4</th>\n",
              "      <th>custom_condition_matched</th>\n",
              "    </tr>\n",
              "  </thead>\n",
              "  <tbody>\n",
              "    <tr>\n",
              "      <th>row3</th>\n",
              "      <td>www</td>\n",
              "      <td>google</td>\n",
              "      <td>weeeeeeeee</td>\n",
              "      <td>Hello</td>\n",
              "      <td>True</td>\n",
              "    </tr>\n",
              "  </tbody>\n",
              "</table>\n",
              "</div>"
            ],
            "text/plain": [
              "     col1    col2        col3   col4  custom_condition_matched\n",
              "row3  www  google  weeeeeeeee  Hello                      True"
            ]
          },
          "metadata": {
            "tags": []
          },
          "execution_count": 5
        }
      ]
    },
    {
      "cell_type": "code",
      "metadata": {
        "id": "LRpVg3gjnYU0"
      },
      "source": [
        ""
      ],
      "execution_count": null,
      "outputs": []
    }
  ]
}